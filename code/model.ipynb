{
 "cells": [
  {
   "cell_type": "code",
   "execution_count": null,
   "metadata": {},
   "outputs": [],
   "source": [
    "import numpy as np\n",
    "import tensorflow as tf\n",
    "from tensorflow import keras\n",
    "from tensorflow.keras.models import Sequential\n",
    "from tensorflow.keras.layers import Activation, Dense, Flatten, BatchNormalization, Conv2D, MaxPool2D\n",
    "from tensorflow.keras.optimizers import Adam\n",
    "from tensorflow.keras.metrics import categorical_crossentropy\n",
    "from tensorflow.keras.preprocessing.image import ImageDataGenerator\n",
    "from sklearn.metrics import confusion_matrix\n",
    "import itertools\n",
    "import os\n",
    "import random\n",
    "import glob\n",
    "import matplotlib.pyplot as plt\n",
    "import warnings\n",
    "warnings.simplefilter(action='ignore', category=FutureWarning)\n",
    "%matplotlib inline \n",
    "from google.colab import drive\n",
    "drive.mount('/content/drive')"
   ]
  },
  {
   "cell_type": "code",
   "execution_count": null,
   "metadata": {},
   "outputs": [],
   "source": [
    "# Organising data into RAP, test and validation sets\n",
    "os.chdir('/content/drive/MyDrive/RAP')\n",
    "if os.path.isdir('RAP/open') is False:\n",
    "  os.makedirs('/content/drive/MyDrive/RAP/train/open')\n",
    "  os.makedirs('/content/drive/MyDrive/RAP/train/close')\n",
    "  os.makedirs('/content/drive/MyDrive/RAP/valid/open')\n",
    "  os.makedirs('/content/drive/MyDrive/RAP/valid/close')\n",
    "  os.makedirs('/content/drive/MyDrive/RAP/test/close')\n",
    "  os.makedirs('/content/drive/MyDrive/RAP/test/open')\n",
    "\n",
    "  for c in random.sample(glob.glob('close*'), 500):\n",
    "      shutil.move(c, '/content/drive/MyDrive/RAP/train/close')\n",
    "  for c in random.sample(glob.glob('open*'), 500):\n",
    "      shutil.move(c, '/content/drive/MyDrive/RAP/train/open')\n",
    "  for c in random.sample(glob.glob('close*'),100):\n",
    "      shutil.move(c, '/content/drive/MyDrive/RAP/valid/close')\n",
    "  for c in random.sample(glob.glob('open*'), 100):\n",
    "      shutil.move(c, '/content/drive/MyDrive/RAP/valid/open')\n",
    "  for c in random.sample(glob.glob('close*'), 50):\n",
    "      shutil.move(c, '/content/drive/MyDrive/RAP/test/close')\n",
    "  for c in random.sample(glob.glob('open*'), 50):\n",
    "      shutil.move(c, '/content/drive/MyDrive/RAP/test/open')\n",
    "\n",
    "os.chdir('../../')\n",
    "\n"
   ]
  },
  {
   "cell_type": "code",
   "execution_count": null,
   "metadata": {},
   "outputs": [],
   "source": [
    "train_path = '/content/drive/MyDrive/RAP/train'\n",
    "test_path = '/content/drive/MyDrive/RAP/test'\n",
    "valid_path = '/content/drive/MyDrive/RAP/valid'"
   ]
  },
  {
   "cell_type": "code",
   "execution_count": null,
   "metadata": {},
   "outputs": [],
   "source": [
    "train_batches = ImageDataGenerator(preprocessing_function=tf.keras.applications.vgg16.preprocess_input) \\\n",
    "    .flow_from_directory(directory=train_path, target_size=(224,224), classes=['close', 'open'], batch_size=10)\n",
    "valid_batches =  ImageDataGenerator(preprocessing_function=tf.keras.applications.vgg16.preprocess_input) \\\n",
    "    .flow_from_directory(directory=valid_path, target_size=(224,224), classes=['close', 'open'], batch_size=10)\n",
    "test_batches =  ImageDataGenerator(preprocessing_function=tf.keras.applications.vgg16.preprocess_input) \\\n",
    "    .flow_from_directory(directory=test_path, target_size=(224,224), classes=['close', 'open'], batch_size=10, shuffle= False)    \n"
   ]
  },
  {
   "cell_type": "code",
   "execution_count": null,
   "metadata": {},
   "outputs": [],
   "source": [
    "assert train_batches.n == 1000\n",
    "assert valid_batches.n == 200\n",
    "assert test_batches.n == 100\n",
    "\n",
    "assert train_batches.num_classes == valid_batches.num_classes==test_batches.num_classes == 2"
   ]
  },
  {
   "cell_type": "code",
   "execution_count": null,
   "metadata": {},
   "outputs": [],
   "source": [
    "# this function will plot the image in a grid\n",
    "def plotImages(images_arr):\n",
    "    fig, axes = plt.subplot(1, 10, figsize=(20,20))\n",
    "    axes=axes.flatten()\n",
    "    for img, ax in zip(images_arr, axes):\n",
    "        ax.imshow(img)\n",
    "        ax.axis('off')\n",
    "    plt.tight_layout()\n",
    "    plt.show()"
   ]
  },
  {
   "cell_type": "code",
   "execution_count": null,
   "metadata": {},
   "outputs": [],
   "source": [
    "model = Sequential([\n",
    "                    Conv2D(filters=32, kernel_size=(3,3), activation='relu', padding='same', input_shape=(224,224,3)),\n",
    "                    MaxPool2D(pool_size=(2,2), strides=2),\n",
    "                    Conv2D(filters=64,kernel_size=(3,3), activation='relu',padding='same'),\n",
    "                    MaxPool2D(pool_size=(2,2),strides=2),\n",
    "                    Flatten(),\n",
    "                    Dense(units=2,activation='softmax'),\n",
    "])"
   ]
  },
  {
   "cell_type": "code",
   "execution_count": null,
   "metadata": {},
   "outputs": [],
   "source": [
    "model.summary()"
   ]
  },
  {
   "cell_type": "code",
   "execution_count": null,
   "metadata": {},
   "outputs": [],
   "source": [
    "model.compile(optimizer=Adam(learning_rate=0.001), loss='categorical_crossentropy', metrics=['accuracy'])"
   ]
  },
  {
   "cell_type": "code",
   "execution_count": null,
   "metadata": {},
   "outputs": [],
   "source": [
    "model.fit(x=train_batches, validation_data=valid_batches, epochs=10, verbose=2)"
   ]
  }
 ],
 "metadata": {
  "language_info": {
   "name": "python"
  },
  "orig_nbformat": 4
 },
 "nbformat": 4,
 "nbformat_minor": 2
}
